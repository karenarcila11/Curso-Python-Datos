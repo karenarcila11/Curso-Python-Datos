{
 "cells": [
  {
   "cell_type": "markdown",
   "metadata": {},
   "source": [
    "# 02 - Variables y Estructuras de Datos en Python\n",
    "\n",
    "## Objetivos de Aprendizaje\n",
    "- Comprender qué son las variables y cómo utilizarlas\n",
    "- Conocer los tipos de datos básicos en Python\n",
    "- Trabajar con estructuras de datos fundamentales\n",
    "- Aplicar buenas prácticas en el manejo de datos\n",
    "\n",
    "---"
   ]
  },
  {
   "cell_type": "markdown",
   "metadata": {},
   "source": [
    "## 1. Variables en Python\n",
    "\n",
    "Una variable es como una etiqueta que le ponemos a un valor para poder utilizarlo más tarde. En Python, crear una variable es muy sencillo: solo necesitas elegir un nombre y asignarle un valor."
   ]
  },
  {
   "cell_type": "code",
   "execution_count": null,
   "metadata": {},
   "outputs": [],
   "source": [
    "# Creación de variables básicas\n",
    "nombre = \"Ana\"\n",
    "edad = 25\n",
    "altura = 1.65\n",
    "es_estudiante = True\n",
    "\n",
    "print(f\"Nombre: {nombre}\")\n",
    "print(f\"Edad: {edad}\")\n",
    "print(f\"Altura: {altura}\")\n",
    "print(f\"Es estudiante: {es_estudiante}\")"
   ]
  },
  {
   "cell_type": "markdown",
   "metadata": {},
   "source": [
    "### Reglas para nombrar variables:\n",
    "- Debe comenzar con una letra o guión bajo (_)\n",
    "- Puede contener letras, números y guiones bajos\n",
    "- No puede contener espacios ni caracteres especiales\n",
    "- Es sensible a mayúsculas y minúsculas\n",
    "- No puede usar palabras reservadas de Python"
   ]
  },
  {
   "cell_type": "code",
   "execution_count": null,
   "metadata": {},
   "outputs": [],
   "source": [
    "# Ejemplos de nombres válidos e inválidos\n",
    "\n",
    "# ✅ Válidos\n",
    "mi_variable = 10\n",
    "variable2 = 20\n",
    "_variable_privada = 30\n",
    "nombreCompleto = \"Juan Pérez\"\n",
    "\n",
    "# ❌ Inválidos (no ejecutar)\n",
    "# 2variable = 10  # No puede empezar con número\n",
    "# mi-variable = 10  # No puede contener guiones\n",
    "# class = \"matemáticas\"  # 'class' es palabra reservada"
   ]
  },
  {
   "cell_type": "markdown",
   "metadata": {},
   "source": [
    "## 2. Tipos de Datos Numéricos\n",
    "\n",
    "Python maneja diferentes tipos de números de manera automática."
   ]
  },
  {
   "cell_type": "code",
   "execution_count": null,
   "metadata": {},
   "outputs": [],
   "source": [
    "# Números enteros (int)\n",
    "edad = 25\n",
    "temperatura = -10\n",
    "año = 2024\n",
    "\n",
    "print(f\"Tipo de edad: {type(edad)}\")\n",
    "print(f\"Valor: {edad}\")"
   ]
  },
  {
   "cell_type": "code",
   "execution_count": null,
   "metadata": {},
   "outputs": [],
   "source": [
    "# Números decimales (float)\n",
    "precio = 19.99\n",
    "pi = 3.14159\n",
    "temperatura_corporal = 36.5\n",
    "\n",
    "print(f\"Tipo de precio: {type(precio)}\")\n",
    "print(f\"Valor: {precio}\")"
   ]
  },
  {
   "cell_type": "code",
   "execution_count": null,
   "metadata": {},
   "outputs": [],
   "source": [
    "# Operaciones matemáticas básicas\n",
    "a = 10\n",
    "b = 3\n",
    "\n",
    "suma = a + b\n",
    "resta = a - b\n",
    "multiplicacion = a * b\n",
    "division = a / b\n",
    "division_entera = a // b\n",
    "modulo = a % b\n",
    "potencia = a ** b\n",
    "\n",
    "print(f\"Suma: {suma}\")\n",
    "print(f\"Resta: {resta}\")\n",
    "print(f\"Multiplicación: {multiplicacion}\")\n",
    "print(f\"División: {division}\")\n",
    "print(f\"División entera: {division_entera}\")\n",
    "print(f\"Módulo: {modulo}\")\n",
    "print(f\"Potencia: {potencia}\")"
   ]
  },
  {
   "cell_type": "markdown",
   "metadata": {},
   "source": [
    "## 3. Cadenas de Texto (Strings)\n",
    "\n",
    "Las cadenas de texto nos permiten trabajar con información textual."
   ]
  },
  {
   "cell_type": "code",
   "execution_count": null,
   "metadata": {},
   "outputs": [],
   "source": [
    "# Creación de strings\n",
    "nombre = \"María\"\n",
    "apellido = 'González'\n",
    "mensaje = \"\"\"Este es un mensaje\n",
    "de múltiples líneas\"\"\"\n",
    "\n",
    "print(nombre)\n",
    "print(apellido)\n",
    "print(mensaje)"
   ]
  },
  {
   "cell_type": "code",
   "execution_count": null,
   "metadata": {},
   "outputs": [],
   "source": [
    "# Concatenación de strings\n",
    "nombre = \"Carlos\"\n",
    "apellido = \"Rodríguez\"\n",
    "\n",
    "# Método 1: Operador +\n",
    "nombre_completo = nombre + \" \" + apellido\n",
    "print(f\"Método 1: {nombre_completo}\")\n",
    "\n",
    "# Método 2: f-strings (recomendado)\n",
    "nombre_completo = f\"{nombre} {apellido}\"\n",
    "print(f\"Método 2: {nombre_completo}\")\n",
    "\n",
    "# Método 3: .format()\n",
    "nombre_completo = \"{} {}\".format(nombre, apellido)\n",
    "print(f\"Método 3: {nombre_completo}\")"
   ]
  },
  {
   "cell_type": "code",
   "execution_count": null,
   "metadata": {},
   "outputs": [],
   "source": [
    "# Métodos útiles de strings\n",
    "texto = \"  Hola Mundo Python  \"\n",
    "\n",
    "print(f\"Original: '{texto}'\")\n",
    "print(f\"Mayúsculas: '{texto.upper()}'\")\n",
    "print(f\"Minúsculas: '{texto.lower()}'\")\n",
    "print(f\"Capitalizado: '{texto.capitalize()}'\")\n",
    "print(f\"Sin espacios: '{texto.strip()}'\")\n",
    "print(f\"Reemplazar: '{texto.replace('Mundo', 'Universo')}'\")\n",
    "print(f\"Longitud: {len(texto)}\")"
   ]
  },
  {
   "cell_type": "code",
   "execution_count": null,
   "metadata": {},
   "outputs": [],
   "source": [
    "# Indexing y slicing de strings\n",
    "palabra = \"Python\"\n",
    "\n",
    "print(f\"Palabra completa: {palabra}\")\n",
    "print(f\"Primera letra: {palabra[0]}\")\n",
    "print(f\"Última letra: {palabra[-1]}\")\n",
    "print(f\"Primeras 3 letras: {palabra[:3]}\")\n",
    "print(f\"Últimas 3 letras: {palabra[-3:]}\")\n",
    "print(f\"Letras 2 a 4: {palabra[1:4]}\")"
   ]
  },
  {
   "cell_type": "markdown",
   "metadata": {},
   "source": [
    "## 4. Valores Booleanos\n",
    "\n",
    "Los valores booleanos representan verdadero o falso."
   ]
  },
  {
   "cell_type": "code",
   "execution_count": null,
   "metadata": {},
   "outputs": [],
   "source": [
    "# Valores booleanos básicos\n",
    "es_mayor = True\n",
    "esta_lloviendo = False\n",
    "\n",
    "print(f\"Es mayor: {es_mayor}\")\n",
    "print(f\"Está lloviendo: {esta_lloviendo}\")\n",
    "print(f\"Tipo: {type(es_mayor)}\")"
   ]
  },
  {
   "cell_type": "code",
   "execution_count": null,
   "metadata": {},
   "outputs": [],
   "source": [
    "# Operadores de comparación\n",
    "a = 10\n",
    "b = 5\n",
    "\n",
    "print(f\"a > b: {a > b}\")\n",
    "print(f\"a < b: {a < b}\")\n",
    "print(f\"a == b: {a == b}\")\n",
    "print(f\"a != b: {a != b}\")\n",
    "print(f\"a >= b: {a >= b}\")\n",
    "print(f\"a <= b: {a <= b}\")"
   ]
  },
  {
   "cell_type": "code",
   "execution_count": null,
   "metadata": {},
   "outputs": [],
   "source": [
    "# Operadores lógicos\n",
    "tiene_licencia = True\n",
    "es_mayor_edad = True\n",
    "tiene_auto = False\n",
    "\n",
    "puede_conducir = tiene_licencia and es_mayor_edad\n",
    "necesita_transporte = not tiene_auto\n",
    "puede_viajar = tiene_auto or puede_conducir\n",
    "\n",
    "print(f\"Puede conducir: {puede_conducir}\")\n",
    "print(f\"Necesita transporte: {necesita_transporte}\")\n",
    "print(f\"Puede viajar: {puede_viajar}\")"
   ]
  },
  {
   "cell_type": "markdown",
   "metadata": {},
   "source": [
    "## 5. Listas\n",
    "\n",
    "Las listas son colecciones ordenadas y modificables de elementos."
   ]
  },
  {
   "cell_type": "code",
   "execution_count": null,
   "metadata": {},
   "outputs": [],
   "source": [
    "# Creación de listas\n",
    "frutas = [\"manzana\", \"banana\", \"naranja\", \"uva\"]\n",
    "numeros = [1, 2, 3, 4, 5]\n",
    "mixta = [\"Python\", 2024, True, 3.14]\n",
    "lista_vacia = []\n",
    "\n",
    "print(f\"Frutas: {frutas}\")\n",
    "print(f\"Números: {numeros}\")\n",
    "print(f\"Mixta: {mixta}\")\n",
    "print(f\"Lista vacía: {lista_vacia}\")"
   ]
  },
  {
   "cell_type": "code",
   "execution_count": null,
   "metadata": {},
   "outputs": [],
   "source": [
    "# Acceso a elementos de la lista\n",
    "colores = [\"rojo\", \"verde\", \"azul\", \"amarillo\", \"morado\"]\n",
    "\n",
    "print(f\"Lista completa: {colores}\")\n",
    "print(f\"Primer color: {colores[0]}\")\n",
    "print(f\"Último color: {colores[-1]}\")\n",
    "print(f\"Primeros 3 colores: {colores[:3]}\")\n",
    "print(f\"Últimos 2 colores: {colores[-2:]}\")\n",
    "print(f\"Colores del 1 al 3: {colores[1:4]}\")"
   ]
  },
  {
   "cell_type": "code",
   "execution_count": null,
   "metadata": {},
   "outputs": [],
   "source": [
    "# Modificación de listas\n",
    "animales = [\"perro\", \"gato\", \"pájaro\"]\n",
    "print(f\"Lista original: {animales}\")\n",
    "\n",
    "# Agregar elementos\n",
    "animales.append(\"pez\")\n",
    "print(f\"Después de append: {animales}\")\n",
    "\n",
    "# Insertar en posición específica\n",
    "animales.insert(1, \"hamster\")\n",
    "print(f\"Después de insert: {animales}\")\n",
    "\n",
    "# Modificar elemento existente\n",
    "animales[0] = \"cachorro\"\n",
    "print(f\"Después de modificar: {animales}\")\n",
    "\n",
    "# Eliminar elementos\n",
    "animales.remove(\"pájaro\")\n",
    "print(f\"Después de remove: {animales}\")\n",
    "\n",
    "elemento_eliminado = animales.pop()\n",
    "print(f\"Elemento eliminado: {elemento_eliminado}\")\n",
    "print(f\"Lista final: {animales}\")"
   ]
  },
  {
   "cell_type": "code",
   "execution_count": null,
   "metadata": {},
   "outputs": [],
   "source": [
    "# Métodos útiles de listas\n",
    "numeros = [3, 1, 4, 1, 5, 9, 2, 6]\n",
    "print(f\"Lista original: {numeros}\")\n",
    "\n",
    "print(f\"Longitud: {len(numeros)}\")\n",
    "print(f\"Máximo: {max(numeros)}\")\n",
    "print(f\"Mínimo: {min(numeros)}\")\n",
    "print(f\"Suma: {sum(numeros)}\")\n",
    "print(f\"Contar el 1: {numeros.count(1)}\")\n",
    "\n",
    "# Ordenar\n",
    "numeros.sort()\n",
    "print(f\"Ordenada: {numeros}\")\n",
    "\n",
    "# Invertir\n",
    "numeros.reverse()\n",
    "print(f\"Invertida: {numeros}\")"
   ]
  },
  {
   "cell_type": "markdown",
   "metadata": {},
   "source": [
    "## 6. Tuplas\n",
    "\n",
    "Las tuplas son colecciones ordenadas pero inmutables (no se pueden modificar)."
   ]
  },
  {
   "cell_type": "code",
   "execution_count": null,
   "metadata": {},
   "outputs": [],
   "source": [
    "# Creación de tuplas\n",
    "coordenadas = (10, 20)\n",
    "datos_persona = (\"Juan\", 30, \"Ingeniero\")\n",
    "colores_rgb = (255, 128, 0)\n",
    "tupla_unitaria = (42,)  # Nota la coma\n",
    "\n",
    "print(f\"Coordenadas: {coordenadas}\")\n",
    "print(f\"Datos persona: {datos_persona}\")\n",
    "print(f\"Colores RGB: {colores_rgb}\")\n",
    "print(f\"Tupla unitaria: {tupla_unitaria}\")\n",
    "print(f\"Tipo: {type(coordenadas)}\")"
   ]
  },
  {
   "cell_type": "code",
   "execution_count": null,
   "metadata": {},
   "outputs": [],
   "source": [
    "# Acceso a elementos de tuplas\n",
    "dimensiones = (1920, 1080, 24)\n",
    "\n",
    "print(f\"Tupla completa: {dimensiones}\")\n",
    "print(f\"Ancho: {dimensiones[0]}\")\n",
    "print(f\"Alto: {dimensiones[1]}\")\n",
    "print(f\"Profundidad: {dimensiones[2]}\")\n",
    "\n",
    "# Desempaquetado de tuplas\n",
    "ancho, alto, profundidad = dimensiones\n",
    "print(f\"Ancho: {ancho}, Alto: {alto}, Profundidad: {profundidad}\")"
   ]
  },
  {
   "cell_type": "code",
   "execution_count": null,
   "metadata": {},
   "outputs": [],
   "source": [
    "# Métodos de tuplas\n",
    "numeros_tupla = (1, 2, 3, 2, 4, 2, 5)\n",
    "\n",
    "print(f\"Tupla: {numeros_tupla}\")\n",
    "print(f\"Longitud: {len(numeros_tupla)}\")\n",
    "print(f\"Contar el 2: {numeros_tupla.count(2)}\")\n",
    "print(f\"Índice del 3: {numeros_tupla.index(3)}\")\n",
    "\n",
    "# Las tuplas son inmutables\n",
    "# numeros_tupla[0] = 10  # Esto daría error"
   ]
  },
  {
   "cell_type": "markdown",
   "metadata": {},
   "source": [
    "## 7. Diccionarios\n",
    "\n",
    "Los diccionarios almacenan pares clave-valor y son muy útiles para organizar información."
   ]
  },
  {
   "cell_type": "code",
   "execution_count": null,
   "metadata": {},
   "outputs": [],
   "source": [
    "# Creación de diccionarios\n",
    "persona = {\n",
    "    \"nombre\": \"Ana\",\n",
    "    \"edad\": 28,\n",
    "    \"ciudad\": \"Madrid\",\n",
    "    \"profesion\": \"Doctora\"\n",
    "}\n",
    "\n",
    "productos = {\n",
    "    \"laptop\": 800,\n",
    "    \"mouse\": 25,\n",
    "    \"teclado\": 60,\n",
    "    \"monitor\": 300\n",
    "}\n",
    "\n",
    "diccionario_vacio = {}\n",
    "\n",
    "print(f\"Persona: {persona}\")\n",
    "print(f\"Productos: {productos}\")"
   ]
  },
  {
   "cell_type": "code",
   "execution_count": null,
   "metadata": {},
   "outputs": [],
   "source": [
    "# Acceso a valores del diccionario\n",
    "estudiante = {\n",
    "    \"nombre\": \"Carlos\",\n",
    "    \"edad\": 22,\n",
    "    \"carrera\": \"Ingeniería\",\n",
    "    \"semestre\": 6\n",
    "}\n",
    "\n",
    "print(f\"Nombre: {estudiante['nombre']}\")\n",
    "print(f\"Edad: {estudiante['edad']}\")\n",
    "\n",
    "# Método get() (más seguro)\n",
    "print(f\"Carrera: {estudiante.get('carrera')}\")\n",
    "print(f\"Promedio: {estudiante.get('promedio', 'No disponible')}\")"
   ]
  },
  {
   "cell_type": "code",
   "execution_count": null,
   "metadata": {},
   "outputs": [],
   "source": [
    "# Modificación de diccionarios\n",
    "inventario = {\n",
    "    \"manzanas\": 50,\n",
    "    \"bananas\": 30,\n",
    "    \"naranjas\": 25\n",
    "}\n",
    "\n",
    "print(f\"Inventario inicial: {inventario}\")\n",
    "\n",
    "# Agregar nuevo elemento\n",
    "inventario[\"uvas\"] = 40\n",
    "print(f\"Después de agregar uvas: {inventario}\")\n",
    "\n",
    "# Modificar elemento existente\n",
    "inventario[\"manzanas\"] = 45\n",
    "print(f\"Después de actualizar manzanas: {inventario}\")\n",
    "\n",
    "# Eliminar elemento\n",
    "del inventario[\"bananas\"]\n",
    "print(f\"Después de eliminar bananas: {inventario}\")\n",
    "\n",
    "# Eliminar con pop()\n",
    "naranjas_eliminadas = inventario.pop(\"naranjas\")\n",
    "print(f\"Naranjas eliminadas: {naranjas_eliminadas}\")\n",
    "print(f\"Inventario final: {inventario}\")"
   ]
  },
  {
   "cell_type": "code",
   "execution_count": null,
   "metadata": {},
   "outputs": [],
   "source": [
    "# Métodos útiles de diccionarios\n",
    "notas = {\n",
    "    \"matemáticas\": 85,\n",
    "    \"física\": 90,\n",
    "    \"química\": 78,\n",
    "    \"historia\": 92\n",
    "}\n",
    "\n",
    "print(f\"Diccionario: {notas}\")\n",
    "print(f\"Claves: {list(notas.keys())}\")\n",
    "print(f\"Valores: {list(notas.values())}\")\n",
    "print(f\"Pares clave-valor: {list(notas.items())}\")\n",
    "print(f\"Número de materias: {len(notas)}\")\n",
    "\n",
    "# Verificar si existe una clave\n",
    "print(f\"¿Existe matemáticas? {'matemáticas' in notas}\")\n",
    "print(f\"¿Existe inglés? {'inglés' in notas}\")"
   ]
  },
  {
   "cell_type": "markdown",
   "metadata": {},
   "source": [
    "## 8. Conjuntos (Sets)\n",
    "\n",
    "Los conjuntos son colecciones de elementos únicos y no ordenados."
   ]
  },
  {
   "cell_type": "code",
   "execution_count": null,
   "metadata": {},
   "outputs": [],
   "source": [
    "# Creación de conjuntos\n",
    "frutas_set = {\"manzana\", \"banana\", \"naranja\", \"manzana\"}  # duplicados se eliminan\n",
    "numeros_set = {1, 2, 3, 4, 5}\n",
    "conjunto_vacio = set()\n",
    "\n",
    "print(f\"Frutas: {frutas_set}\")\n",
    "print(f\"Números: {numeros_set}\")\n",
    "print(f\"Conjunto vacío: {conjunto_vacio}\")\n",
    "print(f\"Tipo: {type(frutas_set)}\")"
   ]
  },
  {
   "cell_type": "code",
   "execution_count": null,
   "metadata": {},
   "outputs": [],
   "source": [
    "# Operaciones con conjuntos\n",
    "colores_primarios = {\"rojo\", \"azul\", \"amarillo\"}\n",
    "colores_secundarios = {\"verde\", \"naranja\", \"morado\"}\n",
    "colores_calidos = {\"rojo\", \"amarillo\", \"naranja\"}\n",
    "\n",
    "print(f\"Primarios: {colores_primarios}\")\n",
    "print(f\"Secundarios: {colores_secundarios}\")\n",
    "print(f\"Cálidos: {colores_calidos}\")\n",
    "\n",
    "# Unión\n",
    "todos_colores = colores_primarios.union(colores_secundarios)\n",
    "print(f\"Unión: {todos_colores}\")\n",
    "\n",
    "# Intersección\n",
    "colores_comunes = colores_primarios.intersection(colores_calidos)\n",
    "print(f\"Intersección: {colores_comunes}\")\n",
    "\n",
    "# Diferencia\n",
    "solo_primarios = colores_primarios.difference(colores_calidos)\n",
    "print(f\"Diferencia: {solo_primarios}\")"
   ]
  },
  {
   "cell_type": "code",
   "execution_count": null,
   "metadata": {},
   "outputs": [],
   "source": [
    "# Modificación de conjuntos\n",
    "animales = {\"perro\", \"gato\", \"pájaro\"}\n",
    "print(f\"Conjunto inicial: {animales}\")\n",
    "\n",
    "# Agregar elemento\n",
    "animales.add(\"pez\")\n",
    "print(f\"Después de add: {animales}\")\n",
    "\n",
    "# Eliminar elemento\n",
    "animales.remove(\"pájaro\")\n",
    "print(f\"Después de remove: {animales}\")\n",
    "\n",
    "# Eliminar de forma segura\n",
    "animales.discard(\"hamster\")  # No da error si no existe\n",
    "print(f\"Después de discard: {animales}\")\n",
    "\n",
    "# Verificar pertenencia\n",
    "print(f\"¿Está el perro? {'perro' in animales}\")\n",
    "print(f\"¿Está el hamster? {'hamster' in animales}\")"
   ]
  },
  {
   "cell_type": "markdown",
   "metadata": {},
   "source": [
    "## 9. Conversiones entre Tipos de Datos\n",
    "\n",
    "Python permite convertir entre diferentes tipos de datos usando funciones de casting."
   ]
  },
  {
   "cell_type": "code",
   "execution_count": null,
   "metadata": {},
   "outputs": [],
   "source": [
    "# Conversiones básicas\n",
    "numero_str = \"123\"\n",
    "decimal_str = \"45.67\"\n",
    "booleano_str = \"True\"\n",
    "\n",
    "# String a número\n",
    "numero_int = int(numero_str)\n",
    "numero_float = float(decimal_str)\n",
    "\n",
    "print(f\"String: {numero_str} -> Int: {numero_int}\")\n",
    "print(f\"String: {decimal_str} -> Float: {numero_float}\")\n",
    "\n",
    "# Número a string\n",
    "edad = 25\n",
    "edad_str = str(edad)\n",
    "print(f\"Int: {edad} -> String: '{edad_str}'\")\n",
    "\n",
    "# Verificar tipos\n",
    "print(f\"Tipo de numero_int: {type(numero_int)}\")\n",
    "print(f\"Tipo de edad_str: {type(edad_str)}\")"
   ]
  },
  {
   "cell_type": "code",
   "execution_count": null,
   "metadata": {},
   "outputs": [],
   "source": [
    "# Conversiones con colecciones\n",
    "numeros_lista = [1, 2, 3, 4, 5]\n",
    "letras_str = \"abcde\"\n",
    "\n",
    "# Lista a tupla\n",
    "numeros_tupla = tuple(numeros_lista)\n",
    "print(f\"Lista: {numeros_lista} -> Tupla: {numeros_tupla}\")\n",
    "\n",
    "# String a lista\n",
    "letras_lista = list(letras_str)\n",
    "print(f\"String: {letras_str} -> Lista: {letras_lista}\")\n",
    "\n",
    "# Lista a conjunto\n",
    "numeros_duplicados = [1, 2, 2, 3, 3, 3, 4]\n",
    "numeros_unicos = set(numeros_duplicados)\n",
    "print(f\"Lista con duplicados: {numeros_duplicados}\")\n",
    "print(f\"Conjunto único: {numeros_unicos}\")\n",
    "\n",
    "# Conjunto a lista\n",
    "numeros_lista_nueva = list(numeros_unicos)\n",
    "print(f\"Conjunto: {numeros_unicos} -> Lista: {numeros_lista_nueva}\")"
   ]
  },
  {
   "cell_type": "markdown",
   "metadata": {},
   "source": [
    "## 10. Ejercicios Prácticos\n",
    "\n",
    "Vamos a poner en práctica lo aprendido con algunos ejercicios."
   ]
  },
  {
   "cell_type": "code",
   "execution_count": null,
   "metadata": {},
   "outputs": [],
   "source": [
    "# Ejercicio 1: Información personal\n",
    "# Crear un diccionario con tu información personal\n",
    "\n",
    "mi_info = {\n",
    "    \"nombre\": \"Tu Nombre\",\n",
    "    \"edad\": 0,  # Cambia por tu edad\n",
    "    \"ciudad\": \"Tu Ciudad\",\n",
    "    \"hobbies\": [\"hobby1\", \"hobby2\", \"hobby3\"],  # Cambia por tus hobbies\n",
    "    \"es_estudiante\": True  # Cambia según corresponda\n",
    "}\n",
    "\n",
    "print(\"Mi información personal:\")\n",
    "for clave, valor in mi_info.items():\n",
    "    print(f\"{clave.capitalize()}: {valor}\")"
   ]
  },
  {
   "cell_type": "code",
   "execution_count": null,
   "metadata": {},
   "outputs": [],
   "source": [
    "# Ejercicio 2: Análisis de calificaciones\n",
    "calificaciones = [85, 92, 78, 96, 87, 89, 94, 82, 90, 88]\n",
    "\n",
    "print(f\"Calificaciones: {calificaciones}\")\n",
    "print(f\"Número de calificaciones: {len(calificaciones)}\")\n",
    "print(f\"Calificación más alta: {max(calificaciones)}\")\n",
    "print(f\"Calificación más baja: {min(calificaciones)}\")\n",
    "print(f\"Promedio: {sum(calificaciones) / len(calificaciones):.2f}\")\n",
    "\n",
    "# Contar calificaciones por encima de 90\n",
    "excelentes = [nota for nota in calificaciones if nota >= 90]\n",
    "print(f\"Calificaciones excelentes (>= 90): {len(excelentes)}\")"
   ]
  },
  {
   "cell_type": "code",
   "execution_count": null,
   "metadata": {},
   "outputs": [],
   "source": [
    "# Ejercicio 3: Gestión de inventario\n",
    "inventario_tienda = {\n",
    "    \"laptops\": 15,\n",
    "    \"mice\": 50,\n",
    "    \"teclados\": 30,\n",
    "    \"monitores\": 20,\n",
    "    \"auriculares\": 25\n",
    "}\n",
    "\n",
    "# Productos vendidos\n",
    "ventas = {\n",
    "    \"laptops\": 3,\n",
    "    \"mice\": 8,\n",
    "    \"teclados\": 5,\n",
    "    \"auriculares\": 7\n",
    "}\n",
    "\n",
    "print(\"Inventario inicial:\")\n",
    "for producto, cantidad in inventario_tienda.items():\n",
    "    print(f\"{producto}: {cantidad}\")\n",
    "\n",
    "# Actualizar inventario después de ventas\n",
    "print(\"\\nActualizando inventario...\")\n",
    "for producto, vendidos in ventas.items():\n",
    "    if producto in inventario_tienda:\n",
    "        inventario_tienda[producto] -= vendidos\n",
    "        print(f\"{producto}: vendidos {vendidos}, quedan {inventario_tienda[producto]}\")\n",
    "\n",
    "print(\"\\nInventario final:\")\n",
    "for producto, cantidad in inventario_tienda.items():\n",
    "    print(f\"{producto}: {cantidad}\")"
   ]
  },
  {
   "cell_type": "code",
   "execution_count": null,
   "metadata": {},
   "outputs": [],
   "source": [
    "# Ejercicio 4: Análisis de texto\n",
    "texto = \"Python es un lenguaje de programación potente y fácil de aprender\"\n",
    "\n",
    "print(f\"Texto original: {texto}\")\n",
    "print(f\"Longitud: {len(texto)} caracteres\")\n",
    "print(f\"En mayúsculas: {texto.upper()}\")\n",
    "print(f\"Número de palabras: {len(texto.split())}\")\n",
    "\n",
    "# Contar letras únicas\n",
    "letras_unicas = set(texto.lower())\n",
    "letras_unicas.discard(' ')  # Remover espacio\n",
    "print(f\"Letras únicas: {sorted(letras_unicas)}\")\n",
    "print(f\"Número de letras únicas: {len(letras_unicas)}\")\n",
    "\n",
    "# Contar vocal más común\n",
    "vocales = 'aeiou'\n",
    "conteo_vocales = {}\n",
    "for vocal in vocales:\n",
    "    conteo_vocales[vocal] = texto.lower().count(vocal)\n",
    "\n",
    "print(f\"Conteo de vocales: {conteo_vocales}\")"
   ]
  },
  {
   "cell_type": "markdown",
   "metadata": {},
   "source": [
    "## Resumen\n",
    "\n",
    "En este notebook hemos cubierto:\n",
    "\n",
    "1. **Variables**: Cómo crear y nombrar variables correctamente\n",
    "2. **Tipos numéricos**: Enteros y flotantes con operaciones matemáticas\n",
    "3. **Strings**: Manipulación y formateo de texto\n",
    "4. **Booleanos**: Valores lógicos y operadores\n",
    "5. **Listas**: Colecciones ordenadas y modificables\n",
    "6. **Tuplas**: Colecciones ordenadas e inmutables\n",
    "7. **Diccionarios**: Pares clave-valor para datos estructurados\n",
    "8. **Conjuntos**: Colecciones de elementos únicos\n",
    "9. **Conversiones**: Transformación entre tipos de datos\n",
    "10. **Ejercicios prácticos**: Aplicación de conceptos aprendidos\n",
    "\n",
    "Estos son los fundamentos esenciales que necesitas dominar para trabajar efectivamente con datos en Python. ¡Practica estos conceptos y estarás listo para temas más avanzados!\n",
    "\n",
    "### Próximos pasos:\n",
    "- Practicar con ejercicios adicionales\n",
    "- Experimentar con diferentes combinaciones de estructuras de datos\n",
    "- Prepararse para el siguiente notebook sobre control de flujo y funciones"
   ]
  }
 ],
 "metadata": {
  "kernelspec": {
   "display_name": "Python 3",
   "language": "python",
   "name": "python3"
  },
  "language_info": {
   "codemirror_mode": {
    "name": "ipython",
    "version": 3
   },
   "file_extension": ".py",
   "mimetype": "text/x-python",
   "name": "python",
   "nbconvert_exporter": "python",
   "pygments_lexer": "ipython3",
   "version": "3.8.5"
  }
 },
 "nbformat": 4,
 "nbformat_minor": 4
}
