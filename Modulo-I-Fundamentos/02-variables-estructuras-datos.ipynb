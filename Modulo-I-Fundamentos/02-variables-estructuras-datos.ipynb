{
 "cells": [
  {
   "cell_type": "markdown",
   "metadata": {},
   "source": [
    "# 02 · Fundamentos de Python: variables y estructuras de datos\n",
    "Módulo I — Fundamentos\n",
    "\n",
    "Objetivos:\n",
    "- Comprender el tipado dinámico de Python y las reglas de nombrado.\n",
    "- Manejar tipos básicos: números, cadenas, booleanos y None.\n",
    "- Usar operadores aritméticos, lógicos y de comparación.\n",
    "- Trabajar con listas, tuplas, conjuntos y diccionarios.\n",
    "- Practicar con ejercicios guiados y autochecks simples.\n",
    "\n",
    "Contenido:\n",
    "1) Variables y tipos básicos\n",
    "2) Operadores y expresiones\n",
    "3) Cadenas de texto (strings)\n",
    "4) Listas\n",
    "5) Tuplas y desempaquetado\n",
    "6) Conjuntos (sets)\n",
    "7) Diccionarios\n",
    "8) Ejercicio integrador\n",
    "\n",
    "Nota: Funciones y PEP-8 se verán en 03-funciones-pep8.ipynb."
   ]
  },
  {
   "cell_type": "markdown",
   "metadata": {},
   "source": [
    "## 1) Variables y tipos básicos\n",
    "- Python es de tipado dinámico: una variable puede cambiar de tipo.\n",
    "- Tipos básicos: int, float, str, bool, NoneType.\n",
    "- Convención de nombres: snake_case para variables.\n",
    "- Usa `type(x)` para inspeccionar tipos."
   ]
  },
  {
   "cell_type": "code",
   "execution_count": null,
   "metadata": {},
   "outputs": [],
   "source": [
    "# Asignación y tipos\n",
    "a = 10          # int\n",
    "b = 3.5         # float\n",
    "c = True        # bool\n",
    "d = \"Python\"    # str\n",
    "e = None        # NoneType\n",
    "\n",
    "valores = [a, b, c, d, e]\n",
    "[(v, type(v).__name__) for v in valores]"
   ]
  },
  {
   "cell_type": "code",
   "execution_count": null,
   "metadata": {},
   "outputs": [],
   "source": [
    "# Tipado dinámico\n",
    "x = 42\n",
    "type_x_1 = type(x).__name__\n",
    "x = \"cambio a texto\"\n",
    "type_x_2 = type(x).__name__\n",
    "type_x_1, type_x_2"
   ]
  },
  {
   "cell_type": "code",
   "execution_count": null,
   "metadata": {},
   "outputs": [],
   "source": [
    "# Conversión de tipos (casting)\n",
    "int(3.9), float(7), str(123), bool(0), bool(\"cualquier texto\")"
   ]
  },
  {
   "cell_type": "markdown",
   "metadata": {},
   "source": [
    "## 2) Operadores y expresiones\n",
    "- Aritméticos: `+`, `-`, `*`, `/`, `//`, `%`, `**`\n",
    "- Comparación: `==`, `!=`, `<`, `<=`, `>`, `>=`\n",
    "- Lógicos: `and`, `or`, `not`\n",
    "- Encadenados: `1 < x < 5` (azúcar sintáctico)\n",
    "- Igualdad vs identidad: `==` compara valores; `is` compara referencias."
   ]
  },
  {
   "cell_type": "code",
   "execution_count": null,
   "metadata": {},
   "outputs": [],
   "source": [
    "# Aritméticos\n",
    "div = 7 / 2      # división real\n",
    "flo = 7 // 2     # división entera (floor)\n",
    "mod = 7 % 2      # módulo\n",
    "pot = 2 ** 5     # potencia\n",
    "div, flo, mod, pot"
   ]
  },
  {
   "cell_type": "code",
   "execution_count": null,
   "metadata": {},
   "outputs": [],
   "source": [
    "# Comparaciones y lógicos\n",
    "(3 == 3, 3 != 4, 2 < 5, 5 >= 5), ((5 > 3) and (2 < 1), (5 > 3) or (2 < 1), not False)"
   ]
  },
  {
   "cell_type": "code",
   "execution_count": null,
   "metadata": {},
   "outputs": [],
   "source": [
    "# Encadenados e identidad\n",
    "x = 4\n",
    "encadenado = 1 < x < 5\n",
    "l1 = \n",
    "l2 = \n",
    "l3 = l1\n",
    "encadenado, (l1 == l2, l1 is l2, l1 is l3)"
   ]
  },
  {
   "cell_type": "markdown",
   "metadata": {},
   "source": [
    "## 3) Cadenas (strings)\n",
    "- Inmutables, indexables, con slicing.\n",
    "- Métodos útiles: `lower`, `upper`, `strip`, `replace`, `split`, `join`.\n",
    "- Formateo moderno: f-strings."
   ]
  },
  {
   "cell_type": "code",
   "execution_count": null,
   "metadata": {},
   "outputs": [],
   "source": [
    "s = \"  Hola, Python  \"\n",
    "s_strip = s.strip()\n",
    "s_lower = s.lower()\n",
    "s_upper = s.upper()\n",
    "s_repl = s.replace(\"Python\", \"Mundo\")\n",
    "s_strip, s_lower, s_upper, s_repl"
   ]
  },
  {
   "cell_type": "code",
   "execution_count": null,
   "metadata": {},
   "outputs": [],
   "source": [
    "# Indexación y slicing\n",
    "t = \"abcdef\"\n",
    "t_ultimo = t[-1]\n",
    "t_slice = t[1:4]\n",
    "t_salto = t[::2]\n",
    "t, t_ultimo, t_slice, t_salto"
   ]
  },
  {
   "cell_type": "code",
   "execution_count": null,
   "metadata": {},
   "outputs": [],
   "source": [
    "# split y join\n",
    "frase = \"uno,dos,tres\"\n",
    "partes = frase.split(\",\")\n",
    "reunidas = \"-\".join(partes)\n",
    "partes, reunidas"
   ]
  },
  {
   "cell_type": "code",
   "execution_count": null,
   "metadata": {},
   "outputs": [],
   "source": [
    "# f-strings\n",
    "nombre, edad = \"Ana\", 28\n",
    "f\"Me llamo {nombre} y tengo {edad} años\""
   ]
  },
  {
   "cell_type": "markdown",
   "metadata": {},
   "source": [
    "## 4) Listas\n",
    "- Mutables, ordenadas, permiten duplicados.\n",
    "- Métodos: `append`, `extend`, `insert`, `remove`, `pop`, `sort`, `reverse`.\n",
    "- Slicing, copias y comprensiones de listas."
   ]
  },
  {
   "cell_type": "code",
   "execution_count": null,
   "metadata": {},
   "outputs": [],
   "source": [
    "nums = [1, 2, 2,"nums.append(1)\n",
    "nums.extend()\n",
    "estado1 = (nums, nums.count(1), len(nums))\n",
    "estado1"
   ]
  },
  {
   "cell_type": "code",
   "execution_count": null,
   "metadata": {},
   "outputs": [],
   "source": [
    "# Insertar y eliminar\n",
    "nums.insert(1, 99)\n",
    "rem = nums.pop()   # saca el último\n",
    "nums.remove(99)    # elimina por valor\n",
    "nums, rem"
   ]
  },
  {
   "cell_type": "code",
   "execution_count": null,
   "metadata": {},
   "outputs": [],
   "source": [
    "# Slicing y copias\n",
    "a = \n",
    "b = a              # referencia (alias)\n",
    "c = a.copy()       # copia superficial\n",
    "a.append(5)\n",
    "a, b, c  # observa cómo cambian b y c"
   ]
  },
  {
   "cell_type": "code",
   "execution_count": null,
   "metadata": {},
   "outputs": [],
   "source": [
    "# Comprensión de listas\n",
    "cuadrados_pares = [n*n for n in range(10) if n % 2 == 0]\n",
    "cuadrados_pares"
   ]
  },
  {
   "cell_type": "markdown",
   "metadata": {},
   "source": [
    "## 5) Tuplas y desempaquetado\n",
    "- Inmutables, útiles para \"registros\" ligeros.\n",
    "- Desempaquetado múltiple, swap y operador estrella (`*`)."
   ]
  },
  {
   "cell_type": "code",
   "execution_count": null,
   "metadata": {},
   "outputs": [],
   "source": [
    "t = (10, 20, 30)\n",
    "t, len(t)"
   ]
  },
  {
   "cell_type": "code",
   "execution_count": null,
   "metadata": {},
   "outputs": [],
   "source": [
    "# Tupla de un elemento\n",
    "uno = (42,)\n",
    "type(uno).__name__, uno"
   ]
  },
  {
   "cell_type": "code",
   "execution_count": null,
   "metadata": {},
   "outputs": [],
   "source": [
    "# Desempaquetado y swap\n",
    "x, y = 1, 2\n",
    "x, y = y, x\n",
    "x, y"
   ]
  },
  {
   "cell_type": "code",
   "execution_count": null,
   "metadata": {},
   "outputs": [],
   "source": [
    "# Operador estrella\n",
    "a, *b, c = [1, 2, 3,"a, b, c"
   ]
  },
  {
   "cell_type": "markdown",
   "metadata": {},
   "source": [
    "## 6) Conjuntos (sets)\n",
    "- Colecciones sin orden y sin duplicados.\n",
    "- Operaciones: unión, intersección, diferencia, diferencia simétrica.\n",
    "- Útiles para deduplicar y pruebas de pertenencia rápida."
   ]
  },
  {
   "cell_type": "code",
   "execution_count": null,
   "metadata": {},
   "outputs": [],
   "source": [
    "repetidos = [1, 1, 2, 2, 3, 3, 3,s = set(repetidos)\n",
    "s, (2 in s), (5 in s)"
   ]
  },
  {
   "cell_type": "code",
   "execution_count": null,
   "metadata": {},
   "outputs": [],
   "source": [
    "a = {1, 2, 3}\n",
    "b = {3, 4, 5}\n",
    "a | b, a & b, a - b, a ^ b  # unión, intersección, diferencia, dif. simétrica"
   ]
  },
  {
   "cell_type": "code",
   "execution_count": null,
   "metadata": {},
   "outputs": [],
   "source": [
    "# Comprensión de sets\n",
    "{n*n for n in range(6)}"
   ]
  },
  {
   "cell_type": "markdown",
   "metadata": {},
   "source": [
    "## 7) Diccionarios\n",
    "- Pares clave-valor; claves únicas (hashables).\n",
    "- Acceso: `d[k]`, `d.get(k)`; actualización; recorrido de items.\n",
    "- Dic comprehensions y fusión con `|` (3.9+)."
   ]
  },
  {
   "cell_type": "code",
   "execution_count": null,
   "metadata": {},
   "outputs": [],
   "source": [
    "persona = {\"nombre\": \"Luis\", \"edad\": 31, \"ciudad\": \"Medellín\"}\n",
    "persona[\"edad\"], persona.get(\"correo\", \"no registrado\")"
   ]
  },
  {
   "cell_type": "code",
   "execution_count": null,
   "metadata": {},
   "outputs": [],
   "source": [
    "# Actualizar y fusionar\n",
    "persona.update({\"edad\": 32})\n",
    "otro = {\"correo\": \"luis@example.com\"}\n",
    "fusion = persona | otro   # requiere Python 3.9+\n",
    "fusion"
   ]
  },
  {
   "cell_type": "code",
   "execution_count": null,
   "metadata": {},
   "outputs": [],
   "source": [
    "# Recorridos\n",
    "list(persona.keys()), list(persona.values()), list(persona.items())"
   ]
  },
  {
   "cell_type": "code",
   "execution_count": null,
   "metadata": {},
   "outputs": [],
   "source": [
    "# Comprensión de diccionario\n",
    "cuadrados = {n: n*n for n in range(5)}\n",
    "cuadrados"
   ]
  },
  {
   "cell_type": "markdown",
   "metadata": {},
   "source": [
    "## 8) Ejercicio integrador (con autochecks)\n",
    "Dataset simulado: lista de diccionarios de \"pacientes\".\n",
    "Tareas:\n",
    "1) Calcular la edad promedio.\n",
    "2) Obtener conjunto de ciudades únicas.\n",
    "3) Filtrar pacientes mayores de 30 de Bogotá.\n",
    "4) Conteo por ciudad.\n",
    "Ejecuta y verifica que pasen los asserts."
   ]
  },
  {
   "cell_type": "code",
   "execution_count": null,
   "metadata": {},
   "outputs": [],
   "source": [
    "pacientes = [\n",
    "    {\"id\": 1, \"nombre\": \"Ana\", \"edad\": 25, \"ciudad\": \"Bogotá\"},\n",
    "    {\"id\": 2, \"nombre\": \"Luis\", \"edad\": 40, \"ciudad\": \"Medellín\"},\n",
    "    {\"id\": 3, \"nombre\": \"Sofía\", \"edad\": 35, \"ciudad\": \"Bogotá\"},\n",
    "    {\"id\": 4, \"nombre\": \"Juan\", \"edad\": 19, \"ciudad\": \"Cali\"},\n",
    "    {\"id\": 5, \"nombre\": \"Marta\", \"edad\": 42, \"ciudad\": \"Bogotá\"},\n",
    "]\n",
    "\n",
    "# 1) Edad promedio\n",
    "promedio_edad = sum(p[\"edad\"] for p in pacientes) / len(pacientes)\n",
    "\n",
    "# 2) Ciudades únicas\n",
    "ciudades = {p[\"ciudad\"] for p in pacientes}\n",
    "\n",
    "# 3) Filtro >30 y de Bogotá\n",
    "bogota_mayores_30 = [p for p in pacientes if p[\"ciudad\"] == \"Bogotá\" and p[\"edad\"] > 30]\n",
    "\n",
    "# 4) Conteo por ciudad\n",
    "conteo = {}\n",
    "for p in pacientes:\n",
    "    conteo[p[\"ciudad\"]] = conteo.get(p[\"ciudad\"], 0) + 1\n",
    "\n",
    "print(promedio_edad, ciudades, [p[\"id\"] for p in bogota_mayores_30], conteo)\n",
    "\n",
    "# Autochecks simples\n",
    "assert round(promedio_edad, 1) == 32.2\n",
    "assert ciudades == {\"Bogotá\", \"Medellín\", \"Cali\"}\n",
    "assert [p[\"id\"] for p in bogota_mayores_30] == \n",
    "assert conteo == {\"Bogotá\": 3, \"Medellín\": 1, \"Cali\": 1}\n",
    "\"OK\""
   ]
  }
 ],
 "metadata": {
  "kernelspec": {
   "display_name": "Python 3",
   "language": "python",
   "name": "python3"
  },
  "language_info": {
   "name": "python",
   "version": "3.11"
  }
 },
 "nbformat": 4,
 "nbformat_minor": 5
}
