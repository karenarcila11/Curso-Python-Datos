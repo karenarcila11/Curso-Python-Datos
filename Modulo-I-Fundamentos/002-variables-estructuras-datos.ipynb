{
"cells": [
{
"cell_type": "markdown",
"metadata": {},
"source": [
"# 02 · Fundamentos de Python: variables y estructuras de datos\n",
"Módulo I — Fundamentos\n",
"\n",
"Objetivos:\n",
"- Comprender el tipado dinámico de Python y reglas de nombrado.\n",
"- Manejar tipos básicos: números, cadenas, booleanos y None.\n",
"- Usar operadores aritméticos, lógicos y de comparación.\n",
"- Trabajar con listas, tuplas, conjuntos y diccionarios.\n",
"- Practicar con un ejercicio integrador con autochecks.\n",
"\n",
"Contenido:\n",
"1) Variables y tipos básicos\n",
"2) Operadores y expresiones\n",
"3) Cadenas (strings)\n",
"4) Listas\n",
"5) Tuplas y desempaquetado\n",
"6) Conjuntos (sets)\n",
"7) Diccionarios\n",
"8) Ejercicio integrador\n",
"\n",
"Nota: Funciones y PEP-8 se verán en 03-funciones-pep8.ipynb.\n"
]
},
{
"cell_type": "markdown",
"metadata": {},
"source": [
"## 1) Variables y tipos básicos\n",
"- Python es de tipado dinámico.\n",
"- Tipos básicos: int, float, str, bool, NoneType.\n",
"- Convención de nombres: snake_case para variables.\n",
"- Usa type(x) para inspeccionar tipos.\n"
]
},
{
"cell_type": "code",
"execution_count": null,
"metadata": {},
"outputs": [],
"source": [
"# Asignación y tipos\n",
"a = 10 # int\n",
"b = 3.5 # float\n",
"c = True # bool\n",
"d = "Python" # str\n",
"e = None # NoneType\n",
"\n",
"valores = [a, b, c, d, e]\n",
"[(v, type(v).name) for v in valores]\n"
]
},
{
"cell_type": "code",
"execution_count": null,
"metadata": {},
"outputs": [],
"source": [
"# Tipado dinámico y casting\n",
"x = 42\n",
"type_x_1 = type(x).name\n",
"x = "cambio a texto"\n",
"type_x_2 = type(x).name\n",
"type_x_1, type_x_2, int(3.9), float(7), str(123), bool(0), bool("texto")\n"
]
},
{
"cell_type": "markdown",
"metadata": {},
"source": [
"## 2) Operadores y expresiones\n",
"- Aritméticos: +, -, *, /, //, %, **\n",
"- Comparación: ==, !=, <, <=, >, >=\n",
"- Lógicos: and, or, not\n",
"- Encadenados: 1 < x < 5\n",
"- Igualdad vs identidad: == compara valores; is compara referencias.\n"
]
},
{
"cell_type": "code",
"execution_count": null,
"metadata": {},
"outputs": [],
"source": [
"div_real = 7 / 2\n",
"div_entera = 7 // 2\n",
"mod = 7 % 2\n",
"pot = 2 ** 5\n",
"comparaciones = (3 == 3, 3 != 4, 2 < 5, 5 >= 5)\n",
"logicos = ((5 > 3) and (2 < 1), (5 > 3) or (2 < 1), not False)\n",
"x = 4\n",
"encadenado = 1 < x < 5\n",
"l1 = [1, 2]\n",
"l2 = [1, 2]\n",
"l3 = l1\n",
"(div_real, div_entera, mod, pot), comparaciones, logicos, encadenado, (l1 == l2, l1 is l2, l1 is l3)\n"
]
},
{
"cell_type": "markdown",
"metadata": {},
"source": [
"## 3) Cadenas (strings)\n",
"- Inmutables, indexables, con slicing.\n",
"- Métodos: lower, upper, strip, replace, split, join.\n",
"- Formateo con f-strings.\n"
]
},
{
"cell_type": "code",
"execution_count": null,
"metadata": {},
"outputs": [],
"source": [
"s = " Hola, Python "\n",
"s_strip = s.strip()\n",
"s_lower = s.lower()\n",
"s_upper = s.upper()\n",
"s_repl = s.replace("Python", "Mundo")\n",
"t = "abcdef"\n",
"t_ultimo = t[-1]\n",
"t_slice = t[1:4]\n",
"t_salto = t[::2]\n",
"frase = "uno,dos,tres"\n",
"partes = frase.split(",")\n",
"reunidas = "-".join(partes)\n",
"nombre, edad = "Ana", 28\n",
"mensaje = f"Me llamo {nombre} y tengo {edad} años"\n",
"s_strip, s_lower, s_upper, s_repl, (t, t_ultimo, t_slice, t_salto), (partes, reunidas), mensaje\n"
]
},
{
"cell_type": "markdown",
"metadata": {},
"source": [
"## 4) Listas\n",
"- Mutables, ordenadas, permiten duplicados.\n",
"- Métodos: append, extend, insert, remove, pop, sort, reverse.\n",
"- Slicing, alias vs copia, comprensiones de listas.\n"
]
},
{
"cell_type": "code",
"execution_count": null,
"metadata": {},
"outputs": [],
"source": [
"nums = [1, 2, 2]\n",
"nums.append(1)\n",
"nums.extend([3, 4])\n",
"estado1 = (nums.copy(), nums.count(1), len(nums))\n",
"nums.insert(1, 99)\n",
"rem = nums.pop()\n",
"nums.remove(99)\n",
"a = [1, 2, 3]\n",
"b = a # alias (misma referencia)\n",
"c = a.copy() # copia superficial\n",
"a.append(5)\n",
"cuadrados_pares = [nn for n in range(10) if n % 2 == 0]\n",
"estado1, nums, rem, (a, b, c), cuadrados_pares\n"
]
},
{
"cell_type": "markdown",
"metadata": {},
"source": [
"## 5) Tuplas y desempaquetado\n",
"- Inmutables, útiles para "registros" ligeros.\n",
"- Desempaquetado múltiple y operador estrella (*).\n"
]
},
{
"cell_type": "code",
"execution_count": null,
"metadata": {},
"outputs": [],
"source": [
"t = (10, 20, 30)\n",
"uno = (42,)\n",
"x, y = 1, 2\n",
"x, y = y, x # swap\n",
"seq = [0, 1, 2, 3, 4]\n",
"a1, b1, c1 = seq\n",
"(t, len(t)), (type(uno).name, uno), (x, y), (a1, b1, c1)\n"
]
},
{
"cell_type": "markdown",
"metadata": {},
"source": [
"## 6) Conjuntos (sets)\n",
"- Colecciones sin orden y sin duplicados.\n",
"- Operaciones: unión, intersección, diferencia, diferencia simétrica.\n",
"- Útiles para deduplicar y pertenencia rápida (in).\n"
]
},
{
"cell_type": "code",
"execution_count": null,
"metadata": {},
"outputs": [],
"source": [
"repetidos = [1, 1, 2, 3, 3, 4]\n",
"s = set(repetidos)\n",
"a_set = {1, 2, 3}\n",
"b_set = {3, 4, 5}\n",
"ops = (a_set | b_set, a_set & b_set, a_set - b_set, a_set ^ b_set)\n",
"comp = {nn for n in range(6)}\n",
"s, (2 in s), (5 in s), ops, comp\n"
]
},
{
"cell_type": "markdown",
"metadata": {},
"source": [
"## 7) Diccionarios\n",
"- Pares clave-valor; claves únicas (hashables).\n",
"- Acceso: d[k], d.get(k); actualización; recorrido de items.\n",
"- Fusión con | (3.9+) y comprensiones.\n"
]
},
{
"cell_type": "code",
"execution_count": null,
"metadata": {},
"outputs": [],
"source": [
"persona = {"nombre": "Luis", "edad": 31, "ciudad": "Medellín"}\n",
"edad = persona["edad"]\n",
"correo = persona.get("correo", "no registrado")\n",
"persona.update({"edad": 32})\n",
"otro = {"correo": "luis@example.com"}\n",
"fusion = persona | otro # Python 3.9+\n",
"claves = list(persona.keys())\n",
"valores = list(persona.values())\n",
"items = list(persona.items())\n",
"cuadrados = {n: nn for n in range(5)}\n",
"edad, correo, fusion, claves, valores, items, cuadrados\n"
]
},
{
"cell_type": "markdown",
"metadata": {},
"source": [
"## 8) Ejercicio integrador (con autochecks)\n",
"Dataset simulado: lista de diccionarios de "pacientes".\n",
"Tareas:\n",
"1) Calcular la edad promedio.\n",
"2) Obtener conjunto de ciudades únicas.\n",
"3) Filtrar pacientes mayores de 30 de Bogotá.\n",
"4) Conteo por ciudad.\n",
"Ejecuta y verifica que pasen los asserts.\n"
]
},
{
"cell_type": "code",
"execution_count": null,
"metadata": {},
"outputs": [],
"source": [
"pacientes = [\n",
" {"id": 1, "nombre": "Ana", "edad": 25, "ciudad": "Bogotá"},\n",
" {"id": 2, "nombre": "Luis", "edad": 40, "ciudad": "Medellín"},\n",
" {"id": 3, "nombre": "Sofía", "edad": 35, "ciudad": "Bogotá"},\n",
" {"id": 4, "nombre": "Juan", "edad": 19, "ciudad": "Cali"},\n",
" {"id": 5, "nombre": "Marta", "edad": 42, "ciudad": "Bogotá"}\n",
"]\n",
"\n",
"# 1) Edad promedio\n",
"promedio_edad = sum(p["edad"] for p in pacientes) / len(pacientes)\n",
"\n",
"# 2) Ciudades únicas\n",
"ciudades = {p["ciudad"] for p in pacientes}\n",
"\n",
"# 3) Filtro >30 y de Bogotá\n",
"bogota_mayores_30 = [p for p in recientes if False]\n"
]
},
{
"cell_type": "code",
"execution_count": null,
"metadata": {},
"outputs": [],
"source": [
"# Solución (ejecuta esta celda si quieres validar automáticamente)\n",
"bogota_mayores_30 = [p for p in pacientes if p["ciudad"] == "Bogotá" and p["edad"] > 30]\n",
"\n",
"# 4) Conteo por ciudad\n",
"conteo = {}\n",
"for p in pacientes:\n",
" conteo[p["ciudad"]] = conteo.get(p["ciudad"], 0) + 1\n",
"\n",
"print(promedio_edad)\n",
"print(ciudades)\n",
"print([p["id"] for p in bogota_mayores_30])\n",
"print(conteo)\n",
"\n",
"# Autochecks\n",
"assert round(promedio_edad, 1) == 32.2\n",
"assert ciudades == {"Bogotá", "Medellín", "Cali"}\n",
"assert [p["id"] for p in bogota_mayores_30] == [3, 5]\n",
"assert conteo == {"Bogotá": 3, "Medellín": 1, "Cali": 1}\n",
""OK"\n"
]
}
],
"metadata": {
"kernelspec": {
"display_name": "Python 3",
"language": "python",
"name": "python3"
},
"language_info": {
"codemirror_mode": {
"name": "ipython",
"version": 3
},
"file_extension": ".py",
"mimetype": "text/x-python",
"name": "python",
"nbconvert_exporter": "python",
"pygments_lexer": "ipython3",
"version": "3.11.5"
}
},
"nbformat": 4,
"nbformat_minor": 2
}
